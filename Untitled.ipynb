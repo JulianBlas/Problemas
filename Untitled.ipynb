{
 "cells": [
  {
   "cell_type": "markdown",
   "metadata": {},
   "source": [
    "## Una formula para cambiar Kgrs a Lb es P = 2.2K, donde P son libras y K son Kilogramos. calcular el numero de libras en 212 Kgrs."
   ]
  },
  {
   "cell_type": "code",
   "execution_count": 3,
   "metadata": {},
   "outputs": [
    {
     "name": "stdout",
     "output_type": "stream",
     "text": [
      "212Kg en Lb son\n",
      "466.40000000000003\n"
     ]
    }
   ],
   "source": [
    "print(\"212Kg en Lb son\")\n",
    "x=2.2*212.0\n",
    "print(x)"
   ]
  },
  {
   "cell_type": "markdown",
   "metadata": {},
   "source": [
    "## La Velocdad de la luz es de 2.99776x10^8 m/seg. Calcular el numero de metros en años luz"
   ]
  },
  {
   "cell_type": "code",
   "execution_count": 4,
   "metadata": {},
   "outputs": [
    {
     "name": "stdout",
     "output_type": "stream",
     "text": [
      "La cantidad de metros en un ano luz es \n",
      "9453735936000000.0\n"
     ]
    }
   ],
   "source": [
    "print(\"La cantidad de metros en un ano luz es \")\n",
    "x=(2.99776*(10**8))*60*60*24*365\n",
    "print(x)"
   ]
  },
  {
   "cell_type": "markdown",
   "metadata": {},
   "source": [
    "## Si una impresora mueve papel con una velocidad de 1000 pies por minuto, ¿Cual es su rapidez en cm por segundo?"
   ]
  },
  {
   "cell_type": "code",
   "execution_count": 16,
   "metadata": {},
   "outputs": [
    {
     "name": "stdout",
     "output_type": "stream",
     "text": [
      "508.00000000000006\n"
     ]
    }
   ],
   "source": [
    "x=1000/60\n",
    "y=x*30.48\n",
    "print(y)"
   ]
  },
  {
   "cell_type": "markdown",
   "metadata": {},
   "source": [
    "## Si un cierto tipo de tapete se vende a $9 por yarda cuadrada, ¿cual es su precio por metros cuadrados"
   ]
  },
  {
   "cell_type": "markdown",
   "metadata": {},
   "source": [
    "**1 yd^2 = 0.8361 m^2** "
   ]
  },
  {
   "cell_type": "code",
   "execution_count": 17,
   "metadata": {},
   "outputs": [
    {
     "name": "stdout",
     "output_type": "stream",
     "text": [
      "10.764262648008613\n"
     ]
    }
   ],
   "source": [
    "x=9/0.8361\n",
    "print(x)"
   ]
  },
  {
   "cell_type": "markdown",
   "metadata": {},
   "source": [
    "## Convertir libras y onzas a Kg"
   ]
  },
  {
   "cell_type": "code",
   "execution_count": 20,
   "metadata": {},
   "outputs": [
    {
     "name": "stdout",
     "output_type": "stream",
     "text": [
      "Introducir libras u onzas\n",
      "0.4535\n",
      "0.0283495\n"
     ]
    }
   ],
   "source": [
    "print(\"Introducir libras u onzas\")\n",
    "a = input(\"Introducir cantidad de Libras\")\n",
    "x = input(\"Introducir cantdad de onzas\")\n",
    "b= int(a) *0.4535\n",
    "y= int(x) *0.0283495\n",
    "print(b)\n",
    "print(y)"
   ]
  }
 ],
 "metadata": {
  "kernelspec": {
   "display_name": "Python 3",
   "language": "python",
   "name": "python3"
  },
  "language_info": {
   "codemirror_mode": {
    "name": "ipython",
    "version": 3
   },
   "file_extension": ".py",
   "mimetype": "text/x-python",
   "name": "python",
   "nbconvert_exporter": "python",
   "pygments_lexer": "ipython3",
   "version": "3.6.5"
  }
 },
 "nbformat": 4,
 "nbformat_minor": 2
}
